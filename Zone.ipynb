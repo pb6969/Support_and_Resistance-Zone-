{
 "cells": [
  {
   "cell_type": "code",
   "execution_count": 2,
   "id": "1a11be3a",
   "metadata": {},
   "outputs": [],
   "source": [
    "import yfinance as yf\n",
    "import pandas as pd\n",
    "import numpy as np"
   ]
  },
  {
   "cell_type": "code",
   "execution_count": 3,
   "id": "43470316",
   "metadata": {},
   "outputs": [],
   "source": [
    "def fetch_stock_data(ticker, period=\"1y\", interval=\"1d\"):\n",
    "    return yf.download(ticker, interval=interval, period=period)"
   ]
  },
  {
   "cell_type": "code",
   "execution_count": 4,
   "id": "6155ab73",
   "metadata": {},
   "outputs": [],
   "source": [
    "def calculate_atr(df,atr_period=14):\n",
    "    df['High-Low'] = df['High']-df['Low']\n",
    "    df['High-PrevClose']=np.abs(df['High']-df['Close'].shift(1))\n",
    "    df['Low-PrevClose'] =np.abs(df['Low']-df['Close'].shift(1))\n",
    "    \n",
    "    df['TrueRange']=df[['High-Low','High-PrevClose','Low-PrevClose']].max(axis=1)\n",
    "    df['ATR']=df['TrueRange'].rolling(window=atr_period).mean()\n",
    "    \n",
    "    return df"
   ]
  },
  {
   "cell_type": "code",
   "execution_count": 9,
   "id": "8557aed0",
   "metadata": {},
   "outputs": [],
   "source": [
    "def calculate_support_resistance(df, atr_multiplier=1):\n",
    "    \n",
    "    current_strike_price = df['Close'].iloc[-1]\n",
    "    latest_atr = df['ATR'].iloc[-1]\n",
    "    \n",
    "    percentage_zone=(latest_atr*atr_multiplier)/current_strike_price\n",
    "\n",
    "    support_level=current_strike_price*(1-percentage_zone)\n",
    "    resistance_level=current_strike_price*(1+percentage_zone)\n",
    "\n",
    "    return current_strike_price,latest_atr,percentage_zone,support_level,resistance_level\n"
   ]
  },
  {
   "cell_type": "code",
   "execution_count": 13,
   "id": "855e6004",
   "metadata": {},
   "outputs": [
    {
     "name": "stdout",
     "output_type": "stream",
     "text": [
      "Enter the stock ticker symbol (e.g., ^NSEI for NIFTY): Zomato.ns\n",
      "Enter the time frame for prediction (e.g., 1d, 1h, 15m): 1h\n",
      "[*********************100%%**********************]  1 of 1 completed\n",
      "\n",
      "Stock Ticker: Zomato.ns\n",
      "Time Frame: 1h\n",
      "Most Recent Date: 2024-10-25\n",
      "Current Strike Price: 253.80\n",
      "Latest ATR: 4.60\n",
      "Calculated Percentage Zone: 1.81%\n",
      "Ideal Support Level: 249.20\n",
      "Ideal Resistance Level: 258.40\n"
     ]
    }
   ],
   "source": [
    "def main():\n",
    "    \n",
    "    ticker=input(\"Enter the stock ticker symbol (e.g., ^NSEI for NIFTY): \").strip()\n",
    "    time_frame=input(\"Enter the time frame for prediction (e.g., 1d, 1h, 15m): \").strip()\n",
    "\n",
    "    stock_data=fetch_stock_data(ticker,interval=time_frame)\n",
    "    stock_data = calculate_atr(stock_data)\n",
    "\n",
    "    current_strike_price,latest_atr,percentage_zone,support_level,resistance_level=calculate_support_resistance(stock_data)\n",
    "\n",
    "    print(f\"\\nStock Ticker: {ticker}\")\n",
    "    print(f\"Time Frame: {time_frame}\")\n",
    "    print(f\"Most Recent Date: {stock_data.index[-1].date()}\")\n",
    "    print(f\"Current Strike Price: {current_strike_price:.2f}\")\n",
    "    print(f\"Latest ATR: {latest_atr:.2f}\")\n",
    "    print(f\"Calculated Percentage Zone: {percentage_zone * 100:.2f}%\")\n",
    "    print(f\"Ideal Support Level: {support_level:.2f}\")\n",
    "    print(f\"Ideal Resistance Level: {resistance_level:.2f}\")\n",
    "\n",
    "\n",
    "if __name__==\"__main__\":\n",
    "    main()"
   ]
  },
  {
   "cell_type": "code",
   "execution_count": null,
   "id": "24ea2f48",
   "metadata": {},
   "outputs": [],
   "source": []
  }
 ],
 "metadata": {
  "kernelspec": {
   "display_name": "Python 3 (ipykernel)",
   "language": "python",
   "name": "python3"
  },
  "language_info": {
   "codemirror_mode": {
    "name": "ipython",
    "version": 3
   },
   "file_extension": ".py",
   "mimetype": "text/x-python",
   "name": "python",
   "nbconvert_exporter": "python",
   "pygments_lexer": "ipython3",
   "version": "3.11.5"
  }
 },
 "nbformat": 4,
 "nbformat_minor": 5
}
